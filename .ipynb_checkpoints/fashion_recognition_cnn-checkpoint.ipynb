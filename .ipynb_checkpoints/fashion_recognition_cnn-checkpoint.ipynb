{
 "cells": [
  {
   "cell_type": "markdown",
   "metadata": {},
   "source": [
    "This model uses the MNIST Fashion dataset.\n",
    "Here it is imported using tensorflow.keras.datasets\n",
    "It is also available at this link: https://www.kaggle.com/zalando-research/fashionmnist"
   ]
  },
  {
   "cell_type": "markdown",
   "metadata": {},
   "source": [
    "Note: The neural network architecture used is based on LeNet-5"
   ]
  },
  {
   "cell_type": "code",
   "execution_count": 1,
   "metadata": {},
   "outputs": [],
   "source": [
    "import tensorflow as tf\n",
    "from keras.models import Sequential\n",
    "from keras.layers import Dense, Dropout, Flatten\n",
    "from keras.layers import Conv2D, MaxPooling2D\n",
    "from keras.optimizers import SGD\n",
    "from keras.utils import to_categorical\n",
    "from tensorflow.keras.datasets import fashion_mnist\n",
    "from PIL import Image\n",
    "import numpy as np   "
   ]
  },
  {
   "cell_type": "code",
   "execution_count": 2,
   "metadata": {},
   "outputs": [],
   "source": [
    "(x_train,y_train), (x_test, y_test) = fashion_mnist.load_data()\n",
    "x_train = x_train.reshape(60000,28,28,1)\n",
    "x_test = x_test.reshape(10000,28,28,1)"
   ]
  },
  {
   "cell_type": "code",
   "execution_count": 3,
   "metadata": {},
   "outputs": [],
   "source": [
    "x_train = x_train.astype('float32')\n",
    "x_test = x_test.astype('float32')\n",
    "x_train = x_train / 255\n",
    "x_test = x_test / 255\n",
    "\n",
    "y_train_one_hot = to_categorical(y_train)\n",
    "y_test_one_hot = to_categorical(y_test)"
   ]
  },
  {
   "cell_type": "code",
   "execution_count": 7,
   "metadata": {},
   "outputs": [],
   "source": [
    "model = Sequential()\n",
    "model.add(Conv2D(6, kernel_size = (5,5), strides = (1,1), activation = \"relu\", input_shape = (28,28,1)))\n",
    "model.add(MaxPooling2D(pool_size = (2,2), strides = (2,2), padding = \"valid\"))\n",
    "model.add(Conv2D(16, kernel_size = (5,5), strides = (1,1), activation = \"relu\"))\n",
    "model.add(MaxPooling2D(pool_size = (2,2), strides = (2,2), padding = \"valid\"))\n",
    "model.add(Flatten())\n",
    "model.add(Dense(120, activation = \"relu\"))\n",
    "model.add(Dense(84, activation = \"relu\"))\n",
    "# model.add(Dropout(0.5))\n",
    "model.add(Dense(10, activation = \"softmax\"))"
   ]
  },
  {
   "cell_type": "code",
   "execution_count": 8,
   "metadata": {},
   "outputs": [
    {
     "name": "stdout",
     "output_type": "stream",
     "text": [
      "Epoch 1/15\n",
      "600/600 [==============================] - 5s 8ms/step - loss: 0.6991\n",
      "Epoch 2/15\n",
      "600/600 [==============================] - 5s 8ms/step - loss: 0.4279\n",
      "Epoch 3/15\n",
      "600/600 [==============================] - 5s 8ms/step - loss: 0.3739\n",
      "Epoch 4/15\n",
      "600/600 [==============================] - 5s 9ms/step - loss: 0.3393\n",
      "Epoch 5/15\n",
      "600/600 [==============================] - 5s 9ms/step - loss: 0.3201\n",
      "Epoch 6/15\n",
      "600/600 [==============================] - 5s 9ms/step - loss: 0.3026\n",
      "Epoch 7/15\n",
      "600/600 [==============================] - 5s 9ms/step - loss: 0.2901\n",
      "Epoch 8/15\n",
      "600/600 [==============================] - 5s 9ms/step - loss: 0.2790\n",
      "Epoch 9/15\n",
      "600/600 [==============================] - 5s 9ms/step - loss: 0.2708\n",
      "Epoch 10/15\n",
      "600/600 [==============================] - 5s 9ms/step - loss: 0.2602\n",
      "Epoch 11/15\n",
      "600/600 [==============================] - 5s 9ms/step - loss: 0.2536\n",
      "Epoch 12/15\n",
      "600/600 [==============================] - 5s 9ms/step - loss: 0.2458\n",
      "Epoch 13/15\n",
      "600/600 [==============================] - 5s 9ms/step - loss: 0.2391\n",
      "Epoch 14/15\n",
      "600/600 [==============================] - 5s 9ms/step - loss: 0.2340\n",
      "Epoch 15/15\n",
      "600/600 [==============================] - 5s 9ms/step - loss: 0.2287\n",
      "100/100 [==============================] - 0s 4ms/step - loss: 0.2894\n",
      "Training and Testing - Done\n"
     ]
    }
   ],
   "source": [
    "sgd = SGD(lr=0.01, decay=1e-6, momentum=0.9, nesterov=True)\n",
    "model.compile(loss='categorical_crossentropy', optimizer=sgd)\n",
    "\n",
    "model.fit(x_train, y_train_one_hot, batch_size=100, epochs=15)\n",
    "score = model.evaluate(x_test, y_test_one_hot, batch_size=100, verbose = 1)\n",
    "\n",
    "print(\"Training and Testing - Done\")"
   ]
  },
  {
   "cell_type": "code",
   "execution_count": 9,
   "metadata": {},
   "outputs": [],
   "source": [
    "model.save(\"model.h5\")"
   ]
  }
 ],
 "metadata": {
  "kernelspec": {
   "display_name": "Python 3.8.2 64-bit",
   "language": "python",
   "name": "python38264bit439ea6fc334741b3853c15bd9125142c"
  },
  "language_info": {
   "codemirror_mode": {
    "name": "ipython",
    "version": 3
   },
   "file_extension": ".py",
   "mimetype": "text/x-python",
   "name": "python",
   "nbconvert_exporter": "python",
   "pygments_lexer": "ipython3",
   "version": "3.8.2"
  }
 },
 "nbformat": 4,
 "nbformat_minor": 4
}
