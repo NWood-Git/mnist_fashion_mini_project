{
 "cells": [
  {
   "cell_type": "code",
   "execution_count": 12,
   "metadata": {},
   "outputs": [],
   "source": [
    "from PIL import Image\n",
    "import numpy as np   \n",
    "from keras.models import load_model"
   ]
  },
  {
   "cell_type": "code",
   "execution_count": 13,
   "metadata": {},
   "outputs": [],
   "source": [
    "category_dict = {\n",
    "    0 : \"top\",\n",
    "    1 : \"trouser\",\n",
    "    2 : \"pullover\",\n",
    "    3 : \"dress\",\n",
    "    4 : \"coat\",\n",
    "    5 : \"sandal\",\n",
    "    6 : \"shirt\",\n",
    "    7 : \"sneakers\",\n",
    "    8 : \"bag\",\n",
    "    9 : \"ankle boot\"\n",
    "}"
   ]
  },
  {
   "cell_type": "code",
   "execution_count": 14,
   "metadata": {},
   "outputs": [],
   "source": [
    "model = load_model(\"model.h5\")"
   ]
  },
  {
   "cell_type": "code",
   "execution_count": 15,
   "metadata": {},
   "outputs": [],
   "source": [
    "def run(image):\n",
    "    pix_val = []\n",
    "    for x in list(image.getdata()):\n",
    "        pixel = abs(x-255) / 255\n",
    "        pix_val.append(pixel)\n",
    "    real_pixels = []\n",
    "    i = 0\n",
    "    while i < len(pix_val):\n",
    "        cur_row = []\n",
    "        for j in range(i, i+28):\n",
    "            cur_row.append(pix_val[j])\n",
    "        real_pixels.append(cur_row)\n",
    "        i += 28\n",
    "    arr_num = np.array(real_pixels)\n",
    "    arr_num = np.reshape(arr_num, (1,28,28,1))\n",
    "    return arr_num"
   ]
  },
  {
   "cell_type": "code",
   "execution_count": 16,
   "metadata": {},
   "outputs": [],
   "source": [
    "def identify_result(image):\n",
    "    arr_num = run(image)\n",
    "    prediction = model.predict(arr_num)\n",
    "    arr_result = np.where(prediction == np.amax(prediction))\n",
    "    the_num = arr_result[1][0]\n",
    "    return category_dict[the_num]\n",
    "    "
   ]
  },
  {
   "cell_type": "markdown",
   "metadata": {},
   "source": [
    "Please Note: The below images were hand drawn in paint using a 28x28 pixel template"
   ]
  },
  {
   "cell_type": "code",
   "execution_count": 20,
   "metadata": {},
   "outputs": [
    {
     "name": "stdout",
     "output_type": "stream",
     "text": [
      "ankle boot\n",
      "bag\n",
      "top\n"
     ]
    }
   ],
   "source": [
    "image0 = Image.open('boot.jpeg').convert('L') #boot\n",
    "image1 = Image.open('bag.jpeg').convert('L') #bag\n",
    "image2 = Image.open('shirt.jpeg').convert('L') #shirt\n",
    "print(identify_result(image0))\n",
    "print(identify_result(image1))\n",
    "print(identify_result(image2))"
   ]
  }
 ],
 "metadata": {
  "kernelspec": {
   "display_name": "Python 3.8.2 64-bit",
   "language": "python",
   "name": "python38264bit439ea6fc334741b3853c15bd9125142c"
  },
  "language_info": {
   "codemirror_mode": {
    "name": "ipython",
    "version": 3
   },
   "file_extension": ".py",
   "mimetype": "text/x-python",
   "name": "python",
   "nbconvert_exporter": "python",
   "pygments_lexer": "ipython3",
   "version": "3.8.2"
  }
 },
 "nbformat": 4,
 "nbformat_minor": 4
}
